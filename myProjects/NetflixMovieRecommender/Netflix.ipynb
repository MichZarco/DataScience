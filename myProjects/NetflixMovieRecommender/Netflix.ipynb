{
 "cells": [
  {
   "cell_type": "code",
   "execution_count": 1,
   "id": "architectural-collins",
   "metadata": {},
   "outputs": [],
   "source": [
    "import numpy as np\n",
    "from matplotlib import pyplot as plt\n",
    "import pandas as pd"
   ]
  },
  {
   "cell_type": "code",
   "execution_count": 2,
   "id": "chief-offset",
   "metadata": {},
   "outputs": [],
   "source": [
    "df = pd.read_csv('netflix_titles.csv')"
   ]
  },
  {
   "cell_type": "code",
   "execution_count": 3,
   "id": "close-processor",
   "metadata": {},
   "outputs": [
    {
     "data": {
      "text/html": [
       "<div>\n",
       "<style scoped>\n",
       "    .dataframe tbody tr th:only-of-type {\n",
       "        vertical-align: middle;\n",
       "    }\n",
       "\n",
       "    .dataframe tbody tr th {\n",
       "        vertical-align: top;\n",
       "    }\n",
       "\n",
       "    .dataframe thead th {\n",
       "        text-align: right;\n",
       "    }\n",
       "</style>\n",
       "<table border=\"1\" class=\"dataframe\">\n",
       "  <thead>\n",
       "    <tr style=\"text-align: right;\">\n",
       "      <th></th>\n",
       "      <th>show_id</th>\n",
       "      <th>type</th>\n",
       "      <th>title</th>\n",
       "      <th>director</th>\n",
       "      <th>cast</th>\n",
       "      <th>country</th>\n",
       "      <th>date_added</th>\n",
       "      <th>release_year</th>\n",
       "      <th>rating</th>\n",
       "      <th>duration</th>\n",
       "      <th>listed_in</th>\n",
       "      <th>description</th>\n",
       "    </tr>\n",
       "  </thead>\n",
       "  <tbody>\n",
       "    <tr>\n",
       "      <th>0</th>\n",
       "      <td>s1</td>\n",
       "      <td>TV Show</td>\n",
       "      <td>3%</td>\n",
       "      <td>NaN</td>\n",
       "      <td>João Miguel, Bianca Comparato, Michel Gomes, R...</td>\n",
       "      <td>Brazil</td>\n",
       "      <td>August 14, 2020</td>\n",
       "      <td>2020</td>\n",
       "      <td>TV-MA</td>\n",
       "      <td>4 Seasons</td>\n",
       "      <td>International TV Shows, TV Dramas, TV Sci-Fi &amp;...</td>\n",
       "      <td>In a future where the elite inhabit an island ...</td>\n",
       "    </tr>\n",
       "    <tr>\n",
       "      <th>1</th>\n",
       "      <td>s2</td>\n",
       "      <td>Movie</td>\n",
       "      <td>7:19</td>\n",
       "      <td>Jorge Michel Grau</td>\n",
       "      <td>Demián Bichir, Héctor Bonilla, Oscar Serrano, ...</td>\n",
       "      <td>Mexico</td>\n",
       "      <td>December 23, 2016</td>\n",
       "      <td>2016</td>\n",
       "      <td>TV-MA</td>\n",
       "      <td>93 min</td>\n",
       "      <td>Dramas, International Movies</td>\n",
       "      <td>After a devastating earthquake hits Mexico Cit...</td>\n",
       "    </tr>\n",
       "    <tr>\n",
       "      <th>2</th>\n",
       "      <td>s3</td>\n",
       "      <td>Movie</td>\n",
       "      <td>23:59</td>\n",
       "      <td>Gilbert Chan</td>\n",
       "      <td>Tedd Chan, Stella Chung, Henley Hii, Lawrence ...</td>\n",
       "      <td>Singapore</td>\n",
       "      <td>December 20, 2018</td>\n",
       "      <td>2011</td>\n",
       "      <td>R</td>\n",
       "      <td>78 min</td>\n",
       "      <td>Horror Movies, International Movies</td>\n",
       "      <td>When an army recruit is found dead, his fellow...</td>\n",
       "    </tr>\n",
       "    <tr>\n",
       "      <th>3</th>\n",
       "      <td>s4</td>\n",
       "      <td>Movie</td>\n",
       "      <td>9</td>\n",
       "      <td>Shane Acker</td>\n",
       "      <td>Elijah Wood, John C. Reilly, Jennifer Connelly...</td>\n",
       "      <td>United States</td>\n",
       "      <td>November 16, 2017</td>\n",
       "      <td>2009</td>\n",
       "      <td>PG-13</td>\n",
       "      <td>80 min</td>\n",
       "      <td>Action &amp; Adventure, Independent Movies, Sci-Fi...</td>\n",
       "      <td>In a postapocalyptic world, rag-doll robots hi...</td>\n",
       "    </tr>\n",
       "    <tr>\n",
       "      <th>4</th>\n",
       "      <td>s5</td>\n",
       "      <td>Movie</td>\n",
       "      <td>21</td>\n",
       "      <td>Robert Luketic</td>\n",
       "      <td>Jim Sturgess, Kevin Spacey, Kate Bosworth, Aar...</td>\n",
       "      <td>United States</td>\n",
       "      <td>January 1, 2020</td>\n",
       "      <td>2008</td>\n",
       "      <td>PG-13</td>\n",
       "      <td>123 min</td>\n",
       "      <td>Dramas</td>\n",
       "      <td>A brilliant group of students become card-coun...</td>\n",
       "    </tr>\n",
       "  </tbody>\n",
       "</table>\n",
       "</div>"
      ],
      "text/plain": [
       "  show_id     type  title           director  \\\n",
       "0      s1  TV Show     3%                NaN   \n",
       "1      s2    Movie   7:19  Jorge Michel Grau   \n",
       "2      s3    Movie  23:59       Gilbert Chan   \n",
       "3      s4    Movie      9        Shane Acker   \n",
       "4      s5    Movie     21     Robert Luketic   \n",
       "\n",
       "                                                cast        country  \\\n",
       "0  João Miguel, Bianca Comparato, Michel Gomes, R...         Brazil   \n",
       "1  Demián Bichir, Héctor Bonilla, Oscar Serrano, ...         Mexico   \n",
       "2  Tedd Chan, Stella Chung, Henley Hii, Lawrence ...      Singapore   \n",
       "3  Elijah Wood, John C. Reilly, Jennifer Connelly...  United States   \n",
       "4  Jim Sturgess, Kevin Spacey, Kate Bosworth, Aar...  United States   \n",
       "\n",
       "          date_added  release_year rating   duration  \\\n",
       "0    August 14, 2020          2020  TV-MA  4 Seasons   \n",
       "1  December 23, 2016          2016  TV-MA     93 min   \n",
       "2  December 20, 2018          2011      R     78 min   \n",
       "3  November 16, 2017          2009  PG-13     80 min   \n",
       "4    January 1, 2020          2008  PG-13    123 min   \n",
       "\n",
       "                                           listed_in  \\\n",
       "0  International TV Shows, TV Dramas, TV Sci-Fi &...   \n",
       "1                       Dramas, International Movies   \n",
       "2                Horror Movies, International Movies   \n",
       "3  Action & Adventure, Independent Movies, Sci-Fi...   \n",
       "4                                             Dramas   \n",
       "\n",
       "                                         description  \n",
       "0  In a future where the elite inhabit an island ...  \n",
       "1  After a devastating earthquake hits Mexico Cit...  \n",
       "2  When an army recruit is found dead, his fellow...  \n",
       "3  In a postapocalyptic world, rag-doll robots hi...  \n",
       "4  A brilliant group of students become card-coun...  "
      ]
     },
     "execution_count": 3,
     "metadata": {},
     "output_type": "execute_result"
    }
   ],
   "source": [
    "df.head(5)"
   ]
  },
  {
   "cell_type": "code",
   "execution_count": 4,
   "id": "south-lindsay",
   "metadata": {},
   "outputs": [
    {
     "name": "stdout",
     "output_type": "stream",
     "text": [
      "<class 'pandas.core.frame.DataFrame'>\n",
      "RangeIndex: 7787 entries, 0 to 7786\n",
      "Data columns (total 12 columns):\n",
      " #   Column        Non-Null Count  Dtype \n",
      "---  ------        --------------  ----- \n",
      " 0   show_id       7787 non-null   object\n",
      " 1   type          7787 non-null   object\n",
      " 2   title         7787 non-null   object\n",
      " 3   director      5398 non-null   object\n",
      " 4   cast          7069 non-null   object\n",
      " 5   country       7280 non-null   object\n",
      " 6   date_added    7777 non-null   object\n",
      " 7   release_year  7787 non-null   int64 \n",
      " 8   rating        7780 non-null   object\n",
      " 9   duration      7787 non-null   object\n",
      " 10  listed_in     7787 non-null   object\n",
      " 11  description   7787 non-null   object\n",
      "dtypes: int64(1), object(11)\n",
      "memory usage: 730.2+ KB\n"
     ]
    }
   ],
   "source": [
    "df.info()"
   ]
  },
  {
   "cell_type": "code",
   "execution_count": 5,
   "id": "dangerous-feeding",
   "metadata": {},
   "outputs": [
    {
     "data": {
      "text/plain": [
       "(7787, 12)"
      ]
     },
     "execution_count": 5,
     "metadata": {},
     "output_type": "execute_result"
    }
   ],
   "source": [
    "df.shape"
   ]
  },
  {
   "cell_type": "code",
   "execution_count": 6,
   "id": "prompt-couple",
   "metadata": {},
   "outputs": [
    {
     "data": {
      "text/plain": [
       "show_id            0\n",
       "type               0\n",
       "title              0\n",
       "director        2389\n",
       "cast             718\n",
       "country          507\n",
       "date_added        10\n",
       "release_year       0\n",
       "rating             7\n",
       "duration           0\n",
       "listed_in          0\n",
       "description        0\n",
       "dtype: int64"
      ]
     },
     "execution_count": 6,
     "metadata": {},
     "output_type": "execute_result"
    }
   ],
   "source": [
    "df.isnull().sum()"
   ]
  },
  {
   "cell_type": "code",
   "execution_count": 7,
   "id": "female-dubai",
   "metadata": {},
   "outputs": [],
   "source": [
    "df['date_added'] = df['date_added'].astype(str)"
   ]
  },
  {
   "cell_type": "code",
   "execution_count": 8,
   "id": "painful-walker",
   "metadata": {},
   "outputs": [
    {
     "data": {
      "text/html": [
       "<div>\n",
       "<style scoped>\n",
       "    .dataframe tbody tr th:only-of-type {\n",
       "        vertical-align: middle;\n",
       "    }\n",
       "\n",
       "    .dataframe tbody tr th {\n",
       "        vertical-align: top;\n",
       "    }\n",
       "\n",
       "    .dataframe thead th {\n",
       "        text-align: right;\n",
       "    }\n",
       "</style>\n",
       "<table border=\"1\" class=\"dataframe\">\n",
       "  <thead>\n",
       "    <tr style=\"text-align: right;\">\n",
       "      <th></th>\n",
       "      <th>show_id</th>\n",
       "      <th>type</th>\n",
       "      <th>title</th>\n",
       "      <th>director</th>\n",
       "      <th>cast</th>\n",
       "      <th>country</th>\n",
       "      <th>date_added</th>\n",
       "      <th>release_year</th>\n",
       "      <th>rating</th>\n",
       "      <th>duration</th>\n",
       "      <th>listed_in</th>\n",
       "      <th>description</th>\n",
       "    </tr>\n",
       "  </thead>\n",
       "  <tbody>\n",
       "    <tr>\n",
       "      <th>258</th>\n",
       "      <td>s259</td>\n",
       "      <td>TV Show</td>\n",
       "      <td>A Young Doctor's Notebook and Other Stories</td>\n",
       "      <td>NaN</td>\n",
       "      <td>Daniel Radcliffe, Jon Hamm, Adam Godley, Chris...</td>\n",
       "      <td>United Kingdom</td>\n",
       "      <td>nan</td>\n",
       "      <td>2013</td>\n",
       "      <td>TV-MA</td>\n",
       "      <td>2 Seasons</td>\n",
       "      <td>British TV Shows, TV Comedies, TV Dramas</td>\n",
       "      <td>Set during the Russian Revolution, this comic ...</td>\n",
       "    </tr>\n",
       "    <tr>\n",
       "      <th>549</th>\n",
       "      <td>s550</td>\n",
       "      <td>TV Show</td>\n",
       "      <td>Anthony Bourdain: Parts Unknown</td>\n",
       "      <td>NaN</td>\n",
       "      <td>Anthony Bourdain</td>\n",
       "      <td>United States</td>\n",
       "      <td>nan</td>\n",
       "      <td>2018</td>\n",
       "      <td>TV-PG</td>\n",
       "      <td>5 Seasons</td>\n",
       "      <td>Docuseries</td>\n",
       "      <td>This CNN original series has chef Anthony Bour...</td>\n",
       "    </tr>\n",
       "    <tr>\n",
       "      <th>2263</th>\n",
       "      <td>s2264</td>\n",
       "      <td>TV Show</td>\n",
       "      <td>Frasier</td>\n",
       "      <td>NaN</td>\n",
       "      <td>Kelsey Grammer, Jane Leeves, David Hyde Pierce...</td>\n",
       "      <td>United States</td>\n",
       "      <td>nan</td>\n",
       "      <td>2003</td>\n",
       "      <td>TV-PG</td>\n",
       "      <td>11 Seasons</td>\n",
       "      <td>Classic &amp; Cult TV, TV Comedies</td>\n",
       "      <td>Frasier Crane is a snooty but lovable Seattle ...</td>\n",
       "    </tr>\n",
       "    <tr>\n",
       "      <th>2288</th>\n",
       "      <td>s2289</td>\n",
       "      <td>TV Show</td>\n",
       "      <td>Friends</td>\n",
       "      <td>NaN</td>\n",
       "      <td>Jennifer Aniston, Courteney Cox, Lisa Kudrow, ...</td>\n",
       "      <td>United States</td>\n",
       "      <td>nan</td>\n",
       "      <td>2003</td>\n",
       "      <td>TV-14</td>\n",
       "      <td>10 Seasons</td>\n",
       "      <td>Classic &amp; Cult TV, TV Comedies</td>\n",
       "      <td>This hit sitcom follows the merry misadventure...</td>\n",
       "    </tr>\n",
       "    <tr>\n",
       "      <th>2555</th>\n",
       "      <td>s2556</td>\n",
       "      <td>TV Show</td>\n",
       "      <td>Gunslinger Girl</td>\n",
       "      <td>NaN</td>\n",
       "      <td>Yuuka Nanri, Kanako Mitsuhashi, Eri Sendai, Am...</td>\n",
       "      <td>Japan</td>\n",
       "      <td>nan</td>\n",
       "      <td>2008</td>\n",
       "      <td>TV-14</td>\n",
       "      <td>2 Seasons</td>\n",
       "      <td>Anime Series, Crime TV Shows</td>\n",
       "      <td>On the surface, the Social Welfare Agency appe...</td>\n",
       "    </tr>\n",
       "    <tr>\n",
       "      <th>3374</th>\n",
       "      <td>s3375</td>\n",
       "      <td>TV Show</td>\n",
       "      <td>Kikoriki</td>\n",
       "      <td>NaN</td>\n",
       "      <td>Igor Dmitriev</td>\n",
       "      <td>NaN</td>\n",
       "      <td>nan</td>\n",
       "      <td>2010</td>\n",
       "      <td>TV-Y</td>\n",
       "      <td>2 Seasons</td>\n",
       "      <td>Kids' TV</td>\n",
       "      <td>A wacky rabbit and his gang of animal pals hav...</td>\n",
       "    </tr>\n",
       "    <tr>\n",
       "      <th>3492</th>\n",
       "      <td>s3493</td>\n",
       "      <td>TV Show</td>\n",
       "      <td>La Familia P. Luche</td>\n",
       "      <td>NaN</td>\n",
       "      <td>Eugenio Derbez, Consuelo Duval, Luis Manuel Áv...</td>\n",
       "      <td>United States</td>\n",
       "      <td>nan</td>\n",
       "      <td>2012</td>\n",
       "      <td>TV-14</td>\n",
       "      <td>3 Seasons</td>\n",
       "      <td>International TV Shows, Spanish-Language TV Sh...</td>\n",
       "      <td>This irreverent sitcom featues Ludovico, Feder...</td>\n",
       "    </tr>\n",
       "    <tr>\n",
       "      <th>3946</th>\n",
       "      <td>s3947</td>\n",
       "      <td>TV Show</td>\n",
       "      <td>Maron</td>\n",
       "      <td>NaN</td>\n",
       "      <td>Marc Maron, Judd Hirsch, Josh Brener, Nora Zeh...</td>\n",
       "      <td>United States</td>\n",
       "      <td>nan</td>\n",
       "      <td>2016</td>\n",
       "      <td>TV-MA</td>\n",
       "      <td>4 Seasons</td>\n",
       "      <td>TV Comedies</td>\n",
       "      <td>Marc Maron stars as Marc Maron, who interviews...</td>\n",
       "    </tr>\n",
       "    <tr>\n",
       "      <th>5137</th>\n",
       "      <td>s5138</td>\n",
       "      <td>TV Show</td>\n",
       "      <td>Red vs. Blue</td>\n",
       "      <td>NaN</td>\n",
       "      <td>Burnie Burns, Jason Saldaña, Gustavo Sorola, G...</td>\n",
       "      <td>United States</td>\n",
       "      <td>nan</td>\n",
       "      <td>2015</td>\n",
       "      <td>NR</td>\n",
       "      <td>13 Seasons</td>\n",
       "      <td>TV Action &amp; Adventure, TV Comedies, TV Sci-Fi ...</td>\n",
       "      <td>This parody of first-person shooter games, mil...</td>\n",
       "    </tr>\n",
       "    <tr>\n",
       "      <th>6065</th>\n",
       "      <td>s6066</td>\n",
       "      <td>TV Show</td>\n",
       "      <td>The Adventures of Figaro Pho</td>\n",
       "      <td>NaN</td>\n",
       "      <td>Luke Jurevicius, Craig Behenna, Charlotte Haml...</td>\n",
       "      <td>Australia</td>\n",
       "      <td>nan</td>\n",
       "      <td>2015</td>\n",
       "      <td>TV-Y7</td>\n",
       "      <td>2 Seasons</td>\n",
       "      <td>Kids' TV, TV Comedies</td>\n",
       "      <td>Imagine your worst fears, then multiply them: ...</td>\n",
       "    </tr>\n",
       "  </tbody>\n",
       "</table>\n",
       "</div>"
      ],
      "text/plain": [
       "     show_id     type                                        title director  \\\n",
       "258     s259  TV Show  A Young Doctor's Notebook and Other Stories      NaN   \n",
       "549     s550  TV Show              Anthony Bourdain: Parts Unknown      NaN   \n",
       "2263   s2264  TV Show                                      Frasier      NaN   \n",
       "2288   s2289  TV Show                                      Friends      NaN   \n",
       "2555   s2556  TV Show                              Gunslinger Girl      NaN   \n",
       "3374   s3375  TV Show                                     Kikoriki      NaN   \n",
       "3492   s3493  TV Show                          La Familia P. Luche      NaN   \n",
       "3946   s3947  TV Show                                        Maron      NaN   \n",
       "5137   s5138  TV Show                                 Red vs. Blue      NaN   \n",
       "6065   s6066  TV Show                 The Adventures of Figaro Pho      NaN   \n",
       "\n",
       "                                                   cast         country  \\\n",
       "258   Daniel Radcliffe, Jon Hamm, Adam Godley, Chris...  United Kingdom   \n",
       "549                                    Anthony Bourdain   United States   \n",
       "2263  Kelsey Grammer, Jane Leeves, David Hyde Pierce...   United States   \n",
       "2288  Jennifer Aniston, Courteney Cox, Lisa Kudrow, ...   United States   \n",
       "2555  Yuuka Nanri, Kanako Mitsuhashi, Eri Sendai, Am...           Japan   \n",
       "3374                                      Igor Dmitriev             NaN   \n",
       "3492  Eugenio Derbez, Consuelo Duval, Luis Manuel Áv...   United States   \n",
       "3946  Marc Maron, Judd Hirsch, Josh Brener, Nora Zeh...   United States   \n",
       "5137  Burnie Burns, Jason Saldaña, Gustavo Sorola, G...   United States   \n",
       "6065  Luke Jurevicius, Craig Behenna, Charlotte Haml...       Australia   \n",
       "\n",
       "     date_added  release_year rating    duration  \\\n",
       "258         nan          2013  TV-MA   2 Seasons   \n",
       "549         nan          2018  TV-PG   5 Seasons   \n",
       "2263        nan          2003  TV-PG  11 Seasons   \n",
       "2288        nan          2003  TV-14  10 Seasons   \n",
       "2555        nan          2008  TV-14   2 Seasons   \n",
       "3374        nan          2010   TV-Y   2 Seasons   \n",
       "3492        nan          2012  TV-14   3 Seasons   \n",
       "3946        nan          2016  TV-MA   4 Seasons   \n",
       "5137        nan          2015     NR  13 Seasons   \n",
       "6065        nan          2015  TV-Y7   2 Seasons   \n",
       "\n",
       "                                              listed_in  \\\n",
       "258            British TV Shows, TV Comedies, TV Dramas   \n",
       "549                                          Docuseries   \n",
       "2263                     Classic & Cult TV, TV Comedies   \n",
       "2288                     Classic & Cult TV, TV Comedies   \n",
       "2555                       Anime Series, Crime TV Shows   \n",
       "3374                                           Kids' TV   \n",
       "3492  International TV Shows, Spanish-Language TV Sh...   \n",
       "3946                                        TV Comedies   \n",
       "5137  TV Action & Adventure, TV Comedies, TV Sci-Fi ...   \n",
       "6065                              Kids' TV, TV Comedies   \n",
       "\n",
       "                                            description  \n",
       "258   Set during the Russian Revolution, this comic ...  \n",
       "549   This CNN original series has chef Anthony Bour...  \n",
       "2263  Frasier Crane is a snooty but lovable Seattle ...  \n",
       "2288  This hit sitcom follows the merry misadventure...  \n",
       "2555  On the surface, the Social Welfare Agency appe...  \n",
       "3374  A wacky rabbit and his gang of animal pals hav...  \n",
       "3492  This irreverent sitcom featues Ludovico, Feder...  \n",
       "3946  Marc Maron stars as Marc Maron, who interviews...  \n",
       "5137  This parody of first-person shooter games, mil...  \n",
       "6065  Imagine your worst fears, then multiply them: ...  "
      ]
     },
     "execution_count": 8,
     "metadata": {},
     "output_type": "execute_result"
    }
   ],
   "source": [
    "df[df['date_added']=='nan']"
   ]
  },
  {
   "cell_type": "code",
   "execution_count": 9,
   "id": "ongoing-chaos",
   "metadata": {},
   "outputs": [
    {
     "name": "stdout",
     "output_type": "stream",
     "text": [
      "<class 'pandas.core.frame.DataFrame'>\n",
      "RangeIndex: 7787 entries, 0 to 7786\n",
      "Data columns (total 12 columns):\n",
      " #   Column        Non-Null Count  Dtype \n",
      "---  ------        --------------  ----- \n",
      " 0   show_id       7787 non-null   object\n",
      " 1   type          7787 non-null   object\n",
      " 2   title         7787 non-null   object\n",
      " 3   director      5398 non-null   object\n",
      " 4   cast          7069 non-null   object\n",
      " 5   country       7280 non-null   object\n",
      " 6   date_added    7787 non-null   object\n",
      " 7   release_year  7787 non-null   int64 \n",
      " 8   rating        7780 non-null   object\n",
      " 9   duration      7787 non-null   object\n",
      " 10  listed_in     7787 non-null   object\n",
      " 11  description   7787 non-null   object\n",
      "dtypes: int64(1), object(11)\n",
      "memory usage: 730.2+ KB\n"
     ]
    }
   ],
   "source": [
    "df.info()"
   ]
  },
  {
   "cell_type": "code",
   "execution_count": 10,
   "id": "resistant-pacific",
   "metadata": {},
   "outputs": [
    {
     "data": {
      "text/plain": [
       "type   \n",
       "Movie      5377\n",
       "TV Show    2410\n",
       "dtype: int64"
      ]
     },
     "execution_count": 10,
     "metadata": {},
     "output_type": "execute_result"
    }
   ],
   "source": [
    "df[['type']].value_counts()"
   ]
  },
  {
   "cell_type": "code",
   "execution_count": 11,
   "id": "military-prison",
   "metadata": {},
   "outputs": [],
   "source": [
    "import seaborn as sns"
   ]
  },
  {
   "cell_type": "code",
   "execution_count": 12,
   "id": "assumed-sunrise",
   "metadata": {},
   "outputs": [
    {
     "data": {
      "image/png": "[encoded data removed]",
      "text/plain": [
       "<Figure size 432x288 with 1 Axes>"
      ]
     },
     "metadata": {
      "needs_background": "light"
     },
     "output_type": "display_data"
    }
   ],
   "source": [
    "sns.countplot(x='type', data=df)\n",
    "plt.show()"
   ]
  },
  {
   "cell_type": "code",
   "execution_count": 13,
   "id": "absent-belief",
   "metadata": {},
   "outputs": [
    {
     "data": {
      "image/png": "[encoded data removed]",
      "text/plain": [
       "<Figure size 432x288 with 1 Axes>"
      ]
     },
     "metadata": {
      "needs_background": "light"
     },
     "output_type": "display_data"
    }
   ],
   "source": [
    "tempdf = pd.DataFrame(df[['country']].value_counts()[:10],columns=['titles']).reset_index()\n",
    "\n",
    "plot = sns.barplot(x='country', y='titles',data=tempdf)\n",
    "for item in plot.get_xticklabels():\n",
    "    item.set_rotation(90)\n"
   ]
  },
  {
   "cell_type": "code",
   "execution_count": 14,
   "id": "floral-patch",
   "metadata": {},
   "outputs": [
    {
     "data": {
      "image/png": "[encoded data removed]",
      "text/plain": [
       "<Figure size 432x288 with 1 Axes>"
      ]
     },
     "metadata": {
      "needs_background": "light"
     },
     "output_type": "display_data"
    }
   ],
   "source": [
    "tempdf = pd.DataFrame(df[['director']].value_counts()[:10],columns=['titles']).reset_index()\n",
    "plot = sns.barplot(x='director', y='titles',data=tempdf)\n",
    "for item in plot.get_xticklabels():\n",
    "    item.set_rotation(90)"
   ]
  },
  {
   "cell_type": "code",
   "execution_count": 36,
   "id": "olive-yorkshire",
   "metadata": {},
   "outputs": [
    {
     "name": "stderr",
     "output_type": "stream",
     "text": [
      "C:\\Users\\hbkmi\\Anaconda3\\lib\\site-packages\\ipykernel_launcher.py:3: SettingWithCopyWarning: \n",
      "A value is trying to be set on a copy of a slice from a DataFrame.\n",
      "Try using .loc[row_indexer,col_indexer] = value instead\n",
      "\n",
      "See the caveats in the documentation: https://pandas.pydata.org/pandas-docs/stable/user_guide/indexing.html#returning-a-view-versus-a-copy\n",
      "  This is separate from the ipykernel package so we can avoid doing imports until\n",
      "C:\\Users\\hbkmi\\Anaconda3\\lib\\site-packages\\ipykernel_launcher.py:4: SettingWithCopyWarning: \n",
      "A value is trying to be set on a copy of a slice from a DataFrame.\n",
      "Try using .loc[row_indexer,col_indexer] = value instead\n",
      "\n",
      "See the caveats in the documentation: https://pandas.pydata.org/pandas-docs/stable/user_guide/indexing.html#returning-a-view-versus-a-copy\n",
      "  after removing the cwd from sys.path.\n",
      "C:\\Users\\hbkmi\\Anaconda3\\lib\\site-packages\\ipykernel_launcher.py:5: SettingWithCopyWarning: \n",
      "A value is trying to be set on a copy of a slice from a DataFrame.\n",
      "Try using .loc[row_indexer,col_indexer] = value instead\n",
      "\n",
      "See the caveats in the documentation: https://pandas.pydata.org/pandas-docs/stable/user_guide/indexing.html#returning-a-view-versus-a-copy\n",
      "  \"\"\"\n"
     ]
    },
    {
     "data": {
      "image/png": "[encoded data removed]",
      "text/plain": [
       "<Figure size 720x504 with 1 Axes>"
      ]
     },
     "metadata": {
      "needs_background": "light"
     },
     "output_type": "display_data"
    }
   ],
   "source": [
    "import datetime\n",
    "tempdf = df[df['date_added']!='nan']\n",
    "tempdf['date_added'] = tempdf['date_added'].str.lstrip()\n",
    "tempdf['date'] = tempdf['date_added'].apply(lambda x : datetime.datetime.strptime(x,\"%B %d, %Y\"))\n",
    "tempdf['year'] = tempdf['date'].apply(lambda x: x.year)\n",
    "tempdf = tempdf.groupby(['year','type'])['title'].count().reset_index()\n",
    "fig = plt.figure(figsize = (10,7))\n",
    "sns.lineplot(x='year',y='title',data=tempdf,hue='type')\n",
    "plt.show()"
   ]
  },
  {
   "cell_type": "code",
   "execution_count": 38,
   "id": "tribal-tablet",
   "metadata": {},
   "outputs": [
    {
     "data": {
      "image/png": "[encoded data removed]",
      "text/plain": [
       "<Figure size 720x504 with 1 Axes>"
      ]
     },
     "metadata": {
      "needs_background": "light"
     },
     "output_type": "display_data"
    }
   ],
   "source": [
    "tempdf = df.groupby(['release_year','type'])['title'].count().reset_index()\n",
    "fig = plt.figure(figsize = (10,7))\n",
    "sns.lineplot(x='release_year',y='title',data=tempdf,hue='type')\n",
    "plt.show()"
   ]
  },
  {
   "cell_type": "code",
   "execution_count": 52,
   "id": "narrow-screw",
   "metadata": {},
   "outputs": [
    {
     "data": {
      "image/png": "[encoded data removed]",
      "text/plain": [
       "<Figure size 432x288 with 1 Axes>"
      ]
     },
     "metadata": {
      "needs_background": "light"
     },
     "output_type": "display_data"
    }
   ],
   "source": [
    "tempdf = pd.DataFrame()\n",
    "tempdf['cast'] = np.hstack([np.array(i.split(',')) for i in df.cast.dropna()])\n",
    "tempdf = pd.DataFrame(tempdf.value_counts(),columns=['Shows #'])[:15].reset_index()\n",
    "plot = sns.barplot(x='cast',y='Shows #',data=tempdf)\n",
    "for item in plot.get_xticklabels():\n",
    "    item.set_rotation(90)"
   ]
  },
  {
   "cell_type": "code",
   "execution_count": 60,
   "id": "conservative-magazine",
   "metadata": {},
   "outputs": [],
   "source": [
    "import re\n",
    "from sklearn.feature_extraction.text import TfidfVectorizer\n",
    "\n",
    "from sklearn.metrics.pairwise import linear_kernel"
   ]
  },
  {
   "cell_type": "code",
   "execution_count": 55,
   "id": "historic-seeker",
   "metadata": {},
   "outputs": [
    {
     "name": "stdout",
     "output_type": "stream",
     "text": [
      "      type  title                                          listed_in  \\\n",
      "0  TV Show     3%  International TV Shows, TV Dramas, TV Sci-Fi &...   \n",
      "1    Movie   7:19                       Dramas, International Movies   \n",
      "2    Movie  23:59                Horror Movies, International Movies   \n",
      "3    Movie      9  Action & Adventure, Independent Movies, Sci-Fi...   \n",
      "4    Movie     21                                             Dramas   \n",
      "\n",
      "                                         description  \n",
      "0  In a future where the elite inhabit an island ...  \n",
      "1  After a devastating earthquake hits Mexico Cit...  \n",
      "2  When an army recruit is found dead, his fellow...  \n",
      "3  In a postapocalyptic world, rag-doll robots hi...  \n",
      "4  A brilliant group of students become card-coun...  \n"
     ]
    }
   ],
   "source": [
    "data = df[['type','title','listed_in','description']]\n",
    "print(data.head())"
   ]
  },
  {
   "cell_type": "code",
   "execution_count": 56,
   "id": "built-township",
   "metadata": {},
   "outputs": [
    {
     "name": "stdout",
     "output_type": "stream",
     "text": [
      "      type  title                                          listed_in  \\\n",
      "0  TV Show     3%  international tv shows tv dramas tv scifi  fan...   \n",
      "1    Movie   7:19                        dramas international movies   \n",
      "2    Movie  23:59                 horror movies international movies   \n",
      "3    Movie      9  action  adventure independent movies scifi  fa...   \n",
      "4    Movie     21                                             dramas   \n",
      "\n",
      "                                         description  \n",
      "0  in a future where the elite inhabit an island ...  \n",
      "1  after a devastating earthquake hits mexico cit...  \n",
      "2  when an army recruit is found dead his fellow ...  \n",
      "3  in a postapocalyptic world ragdoll robots hide...  \n",
      "4  a brilliant group of students become cardcount...  \n"
     ]
    },
    {
     "name": "stderr",
     "output_type": "stream",
     "text": [
      "C:\\Users\\hbkmi\\Anaconda3\\lib\\site-packages\\ipykernel_launcher.py:1: SettingWithCopyWarning: \n",
      "A value is trying to be set on a copy of a slice from a DataFrame.\n",
      "Try using .loc[row_indexer,col_indexer] = value instead\n",
      "\n",
      "See the caveats in the documentation: https://pandas.pydata.org/pandas-docs/stable/user_guide/indexing.html#returning-a-view-versus-a-copy\n",
      "  \"\"\"Entry point for launching an IPython kernel.\n",
      "C:\\Users\\hbkmi\\Anaconda3\\lib\\site-packages\\ipykernel_launcher.py:2: SettingWithCopyWarning: \n",
      "A value is trying to be set on a copy of a slice from a DataFrame.\n",
      "Try using .loc[row_indexer,col_indexer] = value instead\n",
      "\n",
      "See the caveats in the documentation: https://pandas.pydata.org/pandas-docs/stable/user_guide/indexing.html#returning-a-view-versus-a-copy\n",
      "  \n",
      "C:\\Users\\hbkmi\\Anaconda3\\lib\\site-packages\\ipykernel_launcher.py:4: SettingWithCopyWarning: \n",
      "A value is trying to be set on a copy of a slice from a DataFrame.\n",
      "Try using .loc[row_indexer,col_indexer] = value instead\n",
      "\n",
      "See the caveats in the documentation: https://pandas.pydata.org/pandas-docs/stable/user_guide/indexing.html#returning-a-view-versus-a-copy\n",
      "  after removing the cwd from sys.path.\n",
      "C:\\Users\\hbkmi\\Anaconda3\\lib\\site-packages\\ipykernel_launcher.py:5: SettingWithCopyWarning: \n",
      "A value is trying to be set on a copy of a slice from a DataFrame.\n",
      "Try using .loc[row_indexer,col_indexer] = value instead\n",
      "\n",
      "See the caveats in the documentation: https://pandas.pydata.org/pandas-docs/stable/user_guide/indexing.html#returning-a-view-versus-a-copy\n",
      "  \"\"\"\n"
     ]
    }
   ],
   "source": [
    "data['listed_in'] = [re.sub(r'[^\\w\\s]', '', t) for t in data['listed_in']]\n",
    "data['description'] = [re.sub(r'[^\\w\\s]', '', t) for t in data['description']]\n",
    "\n",
    "data['listed_in'] = [t.lower() for t in data['listed_in']]\n",
    "data['description'] = [t.lower() for t in data['description']]\n",
    "\n",
    "print(data.head())"
   ]
  },
  {
   "cell_type": "code",
   "execution_count": 57,
   "id": "linear-terry",
   "metadata": {},
   "outputs": [
    {
     "name": "stderr",
     "output_type": "stream",
     "text": [
      "C:\\Users\\hbkmi\\Anaconda3\\lib\\site-packages\\ipykernel_launcher.py:1: SettingWithCopyWarning: \n",
      "A value is trying to be set on a copy of a slice from a DataFrame.\n",
      "Try using .loc[row_indexer,col_indexer] = value instead\n",
      "\n",
      "See the caveats in the documentation: https://pandas.pydata.org/pandas-docs/stable/user_guide/indexing.html#returning-a-view-versus-a-copy\n",
      "  \"\"\"Entry point for launching an IPython kernel.\n",
      "C:\\Users\\hbkmi\\Anaconda3\\lib\\site-packages\\pandas\\core\\frame.py:4312: SettingWithCopyWarning: \n",
      "A value is trying to be set on a copy of a slice from a DataFrame\n",
      "\n",
      "See the caveats in the documentation: https://pandas.pydata.org/pandas-docs/stable/user_guide/indexing.html#returning-a-view-versus-a-copy\n",
      "  errors=errors,\n"
     ]
    },
    {
     "data": {
      "text/html": [
       "<div>\n",
       "<style scoped>\n",
       "    .dataframe tbody tr th:only-of-type {\n",
       "        vertical-align: middle;\n",
       "    }\n",
       "\n",
       "    .dataframe tbody tr th {\n",
       "        vertical-align: top;\n",
       "    }\n",
       "\n",
       "    .dataframe thead th {\n",
       "        text-align: right;\n",
       "    }\n",
       "</style>\n",
       "<table border=\"1\" class=\"dataframe\">\n",
       "  <thead>\n",
       "    <tr style=\"text-align: right;\">\n",
       "      <th></th>\n",
       "      <th>title</th>\n",
       "      <th>combined</th>\n",
       "    </tr>\n",
       "  </thead>\n",
       "  <tbody>\n",
       "    <tr>\n",
       "      <th>0</th>\n",
       "      <td>3%</td>\n",
       "      <td>international tv shows tv dramas tv scifi  fan...</td>\n",
       "    </tr>\n",
       "    <tr>\n",
       "      <th>1</th>\n",
       "      <td>7:19</td>\n",
       "      <td>dramas international movies  7:19 after a deva...</td>\n",
       "    </tr>\n",
       "    <tr>\n",
       "      <th>2</th>\n",
       "      <td>23:59</td>\n",
       "      <td>horror movies international movies  23:59 when...</td>\n",
       "    </tr>\n",
       "    <tr>\n",
       "      <th>3</th>\n",
       "      <td>9</td>\n",
       "      <td>action  adventure independent movies scifi  fa...</td>\n",
       "    </tr>\n",
       "    <tr>\n",
       "      <th>4</th>\n",
       "      <td>21</td>\n",
       "      <td>dramas  21 a brilliant group of students becom...</td>\n",
       "    </tr>\n",
       "  </tbody>\n",
       "</table>\n",
       "</div>"
      ],
      "text/plain": [
       "   title                                           combined\n",
       "0     3%  international tv shows tv dramas tv scifi  fan...\n",
       "1   7:19  dramas international movies  7:19 after a deva...\n",
       "2  23:59  horror movies international movies  23:59 when...\n",
       "3      9  action  adventure independent movies scifi  fa...\n",
       "4     21  dramas  21 a brilliant group of students becom..."
      ]
     },
     "execution_count": 57,
     "metadata": {},
     "output_type": "execute_result"
    }
   ],
   "source": [
    "data[\"combined\"] = data['listed_in'] + '  ' + data['title'] + ' ' + data['description'] \n",
    "data.drop([\"description\",\"listed_in\",\"type\"],axis=1,inplace=True)\n",
    "data.head()"
   ]
  },
  {
   "cell_type": "code",
   "execution_count": 63,
   "id": "electoral-wellington",
   "metadata": {},
   "outputs": [],
   "source": [
    "vectorizer = TfidfVectorizer()\n",
    "matrix = vectorizer.fit_transform(data['combined'])\n",
    "cosine_similarities = linear_kernel(matrix,matrix)\n",
    "movie_title = data['title']\n",
    "indices = pd.Series(data.index, index=data['title'])"
   ]
  },
  {
   "cell_type": "code",
   "execution_count": 66,
   "id": "approved-government",
   "metadata": {},
   "outputs": [],
   "source": [
    "def recommender(title):\n",
    "    idx = indices[title]\n",
    "    sim_scores = list(enumerate(cosine_similarities[idx]))\n",
    "    sim_scores = sorted(sim_scores, key= lambda x: x[1], reverse = True)\n",
    "    sim_scores = sim_scores[1:31]\n",
    "    movie_indices = [i[0] for i in sim_scores]\n",
    "    return movie_title.iloc[movie_indices]"
   ]
  },
  {
   "cell_type": "code",
   "execution_count": 68,
   "id": "grateful-glasgow",
   "metadata": {},
   "outputs": [
    {
     "data": {
      "text/plain": [
       "7189                            Transformers Prime\n",
       "7194       Transformers: War For Cybertron Trilogy\n",
       "7191                      Transformers: Cyberverse\n",
       "7192                     Transformers: Rescue Bots\n",
       "7121                                         Tobot\n",
       "7195    Transformers: War for Cybertron: Earthrise\n",
       "4114                                     Miniforce\n",
       "4952                      Power Rangers Wild Force\n",
       "2438                                 Glitter Force\n",
       "6270                                  The Darkness\n",
       "Name: title, dtype: object"
      ]
     },
     "execution_count": 68,
     "metadata": {},
     "output_type": "execute_result"
    }
   ],
   "source": [
    "recommender('Transformers: Robots in Disguise').head(10)"
   ]
  },
  {
   "cell_type": "code",
   "execution_count": null,
   "id": "joint-porcelain",
   "metadata": {},
   "outputs": [],
   "source": []
  }
 ],
 "metadata": {
  "kernelspec": {
   "display_name": "Python 3",
   "language": "python",
   "name": "python3"
  },
  "language_info": {
   "codemirror_mode": {
    "name": "ipython",
    "version": 3
   },
   "file_extension": ".py",
   "mimetype": "text/x-python",
   "name": "python",
   "nbconvert_exporter": "python",
   "pygments_lexer": "ipython3",
   "version": "3.7.10"
  }
 },
 "nbformat": 4,
 "nbformat_minor": 5
}
